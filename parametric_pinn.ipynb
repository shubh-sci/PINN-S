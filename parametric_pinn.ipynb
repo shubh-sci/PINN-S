{
 "cells": [
  {
   "cell_type": "code",
   "execution_count": 3,
   "id": "14a9c719",
   "metadata": {},
   "outputs": [],
   "source": [
    "import torch\n",
    "import torch.nn as nn\n",
    "import torch.autograd as autograd\n",
    "import numpy as np\n",
    "import matplotlib.pyplot as plt"
   ]
  },
  {
   "cell_type": "code",
   "execution_count": 4,
   "id": "883dad9f",
   "metadata": {},
   "outputs": [],
   "source": [
    "torch.manual_seed(42)\n",
    "np.random.seed(42)"
   ]
  },
  {
   "cell_type": "code",
   "execution_count": 5,
   "id": "2838b484",
   "metadata": {},
   "outputs": [],
   "source": [
    "def normalize(alpha):\n",
    "    return (alpha-1)/9\n",
    "def denormalize(alpha_t):\n",
    "    return alpha_t**9+1\n",
    "\n",
    "n_collocation = 10000\n",
    "x_colloc=torch.rand(n_collocation,1)\n",
    "alpha_colloc=1+9*torch.rand(n_collocation,1)\n",
    "alpha_colloc_norm=normalize(alpha_colloc)\n",
    "\n",
    "n_boundary=1000\n",
    "alpha_bc=1+9*torch.rand(n_boundary,1)  #scaling alpha to [1,10]\n",
    "alpha_bc_norm=normalize(alpha_bc)\n",
    "\n",
    "x_bc_left=torch.zeros_like(alpha_bc)    #x=0\n",
    "x_bc_right=torch.ones_like(alpha_bc)    #x=1"
   ]
  },
  {
   "cell_type": "code",
   "execution_count": 6,
   "id": "283b87d1",
   "metadata": {},
   "outputs": [],
   "source": [
    "class ParametricPINN(nn.Module):\n",
    "    def __init__(self, layers=(2, 64, 64, 64, 64, 1)):\n",
    "        super().__init__()\n",
    "        net_layers = []\n",
    "        for in_dim, out_dim in zip(layers[:-2], layers[1:-1]):\n",
    "            net_layers.append(nn.Linear(in_dim, out_dim))\n",
    "            net_layers.append(nn.Tanh())\n",
    "            net_layers.append(nn.Linear(layers[-2], layers[-1]))\n",
    "            self.network = nn.Sequential(*net_layers)\n",
    "    def forward(self, x, alpha_norm):\n",
    "        inputs = torch.cat([x, alpha_norm], dim=1)\n",
    "        return self.network(inputs)\n",
    "pinn = ParametricPINN()"
   ]
  },
  {
   "cell_type": "code",
   "execution_count": 2,
   "id": "31c35283",
   "metadata": {},
   "outputs": [],
   "source": [
    "def pde_residual(model, x, alpha, alpha_norm):\n",
    "    \"\"\"Compute u_xx + alpha.\"\"\"\n",
    "    x.requires_grad_(True)\n",
    "    alpha_norm.requires_grad_(False)\n",
    "    u = model(x, alpha_norm)\n",
    "    # First derivative wrt x\n",
    "    u_x = autograd.grad(u, x, grad_outputs=torch.ones_like(u),create_graph=True)[0]\n",
    "    # Second derivative wrt x\n",
    "    u_xx = autograd.grad(u_x, x, grad_outputs=torch.ones_like(u_x),create_graph=True)[0]\n",
    "    return u_xx + alpha # residual should be ~0"
   ]
  },
  {
   "cell_type": "code",
   "execution_count": null,
   "id": "56db5c0b",
   "metadata": {},
   "outputs": [],
   "source": []
  }
 ],
 "metadata": {
  "kernelspec": {
   "display_name": "Python 3",
   "language": "python",
   "name": "python3"
  },
  "language_info": {
   "codemirror_mode": {
    "name": "ipython",
    "version": 3
   },
   "file_extension": ".py",
   "mimetype": "text/x-python",
   "name": "python",
   "nbconvert_exporter": "python",
   "pygments_lexer": "ipython3",
   "version": "3.12.10"
  }
 },
 "nbformat": 4,
 "nbformat_minor": 5
}
